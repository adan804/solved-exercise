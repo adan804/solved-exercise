{
 "cells": [
  {
   "cell_type": "code",
   "execution_count": 1,
   "id": "d96f74d0",
   "metadata": {},
   "outputs": [
    {
     "name": "stdout",
     "output_type": "stream",
     "text": [
      "{'name': 'Syeda Adan', 'age': '18', 'city': 'Lahore', 'Hobbies': 'Traveling'}\n"
     ]
    }
   ],
   "source": [
    "#creating an empty dictionary\n",
    "my_dict={}\n",
    "#add key-value pairs\n",
    "my_dict['name']= 'Syeda Adan'\n",
    "my_dict['age']= '18'\n",
    "my_dict['city']= 'Lahore'\n",
    "my_dict['Hobbies']= 'Traveling'\n",
    "print(my_dict)"
   ]
  },
  {
   "cell_type": "code",
   "execution_count": 3,
   "id": "aa9f6fb3",
   "metadata": {},
   "outputs": [
    {
     "name": "stdout",
     "output_type": "stream",
     "text": [
      "'this': 2\n",
      "'is': 3\n",
      "'a': 1\n",
      "'simple': 2\n",
      "'test': 3\n",
      "'the': 1\n",
      "'not': 1\n",
      "'complicated': 1\n"
     ]
    }
   ],
   "source": [
    "from collections import Counter\n",
    "import re\n",
    "\n",
    "# Function to count word frequencies\n",
    "def count_word_frequency(text):\n",
    "    # Convert text to lowercase and split into words using regular expression\n",
    "    words = re.findall(r'\\b\\w+\\b', text.lower())\n",
    "    \n",
    "    # Count the frequency of each word\n",
    "    word_count = Counter(words)\n",
    "    \n",
    "    # Return the word frequencies\n",
    "    return word_count\n",
    "\n",
    "# Sample text input\n",
    "text = \"\"\"\n",
    "This is a simple test. This test is simple.\n",
    "The test is not complicated.\n",
    "\"\"\"\n",
    "\n",
    "# Call the function with the input text\n",
    "word_frequencies = count_word_frequency(text)\n",
    "\n",
    "# Display the word frequencies\n",
    "for word, frequency in word_frequencies.items():\n",
    "    print(f\"'{word}': {frequency}\")\n"
   ]
  },
  {
   "cell_type": "code",
   "execution_count": 4,
   "id": "7a1e6afe",
   "metadata": {
    "scrolled": true
   },
   "outputs": [
    {
     "ename": "SyntaxError",
     "evalue": "unmatched ')' (3094279553.py, line 7)",
     "output_type": "error",
     "traceback": [
      "\u001b[1;36m  Cell \u001b[1;32mIn[4], line 7\u001b[1;36m\u001b[0m\n\u001b[1;33m    item, qty, price = input(\"Item: \"), int(input(\"Qty: \")), float(input(\"Price: \")))\u001b[0m\n\u001b[1;37m                                                                                    ^\u001b[0m\n\u001b[1;31mSyntaxError\u001b[0m\u001b[1;31m:\u001b[0m unmatched ')'\n"
     ]
    }
   ],
   "source": [
    "\n"
   ]
  },
  {
   "cell_type": "code",
   "execution_count": 5,
   "id": "e1f4f7a9",
   "metadata": {},
   "outputs": [
    {
     "name": "stdout",
     "output_type": "stream",
     "text": [
      "apple: 7\n",
      "banana: 5\n"
     ]
    }
   ],
   "source": [
    "inventory = {}\n",
    "\n",
    "def add_item(name, quantity):\n",
    "    inventory[name] = inventory.get(name, 0) + quantity\n",
    "\n",
    "def remove_item(name, quantity):\n",
    "    if name in inventory and inventory[name] >= quantity:\n",
    "        inventory[name] -= quantity\n",
    "        if inventory[name] == 0:\n",
    "            del inventory[name]\n",
    "\n",
    "def show_inventory():\n",
    "    for item, quantity in inventory.items():\n",
    "        print(f\"{item}: {quantity}\")\n",
    "\n",
    "# Example usage\n",
    "add_item(\"apple\", 10)\n",
    "add_item(\"banana\", 5)\n",
    "remove_item(\"apple\", 3)\n",
    "show_inventory()"
   ]
  },
  {
   "cell_type": "code",
   "execution_count": 9,
   "id": "d4e6326c",
   "metadata": {},
   "outputs": [
    {
     "name": "stdout",
     "output_type": "stream",
     "text": [
      "The average grade is: 86.80\n"
     ]
    }
   ],
   "source": [
    "# Create a dictionary to store student grades\n",
    "student_grades = {\n",
    "    \"Alice\": 85,\n",
    "    \"Bob\": 92,\n",
    "    \"Charlie\": 78,\n",
    "    \"David\": 88,\n",
    "    \"Eve\": 91\n",
    "}\n",
    "\n",
    "#  Calculate the average grade\n",
    "total_grades = sum(student_grades.values())  # Sum of all grades\n",
    "num_students = len(student_grades)  # Total number of students\n",
    "\n",
    "average_grade = total_grades / num_students  # Calculate average\n",
    "\n",
    "# Output the average grade\n",
    "print(f\"The average grade is: {average_grade:.2f}\")\n"
   ]
  },
  {
   "cell_type": "code",
   "execution_count": 10,
   "id": "717d6e36",
   "metadata": {},
   "outputs": [
    {
     "name": "stdout",
     "output_type": "stream",
     "text": [
      "{'paints': 11, 'footballs': 38, 'chocolates': 82}\n"
     ]
    }
   ],
   "source": [
    "inventory= {'paints': 7,\n",
    "           'footballs':45,\n",
    "           'chocolates': 73\n",
    "           }\n",
    "inventory['paints']+=4\n",
    "inventory['footballs']-=7\n",
    "inventory['chocolates']+=9\n",
    "print(inventory)"
   ]
  },
  {
   "cell_type": "code",
   "execution_count": 11,
   "id": "4f8d7cc1",
   "metadata": {},
   "outputs": [
    {
     "name": "stdout",
     "output_type": "stream",
     "text": [
      "14500 {}\n"
     ]
    }
   ],
   "source": [
    "class Inventory:\n",
    "    def __init__(self): self.p = {}\n",
    "    def add(self, n, q, p): self.p[n] = {'q': q, 'p': p}\n",
    "    def update(self, n, q=None, p=None): \n",
    "        if n in self.p: \n",
    "            if q: self.p[n]['q'] += q\n",
    "            if p: self.p[n]['p'] = p\n",
    "    def total_value(self): return sum(v['q'] * v['p'] for v in self.p.values())\n",
    "    def low_stock(self, t=5): return {k: v for k, v in self.p.items() if v['q'] <= t}\n",
    "\n",
    "# Example\n",
    "inv = Inventory()\n",
    "inv.add(\"Laptop\", 10, 1000)\n",
    "inv.add(\"Phone\", 5, 500)\n",
    "inv.update(\"Phone\", q=5, p=450)\n",
    "print(inv.total_value(), inv.low_stock())\n"
   ]
  },
  {
   "cell_type": "code",
   "execution_count": 16,
   "id": "68d8d3a8",
   "metadata": {},
   "outputs": [
    {
     "name": "stdout",
     "output_type": "stream",
     "text": [
      "{'Alice': 88.33333333333333, 'Bob': 78.66666666666667, 'Charlie': 92.33333333333333, 'David': 76.0} Highest: Charlie, Lowest: David [('Charlie', 92.33333333333333), ('Alice', 88.33333333333333), ('Bob', 78.66666666666667), ('David', 76.0)]\n"
     ]
    }
   ],
   "source": [
    "gradebook = {\n",
    "    'Alice': {'Math': 85, 'Science': 92, 'English': 88},\n",
    "    'Bob': {'Math': 78, 'Science': 83, 'English': 75},\n",
    "    'Charlie': {'Math': 95, 'Science': 90, 'English': 92},\n",
    "    'David': {'Math': 70, 'Science': 80, 'English': 78},\n",
    "}\n",
    "\n",
    "# Average grade for each student\n",
    "avg_grades = {s: sum(g.values()) / len(g) for s, g in gradebook.items()}\n",
    "\n",
    "# Highest and lowest grade in Math\n",
    "subject = 'Math'\n",
    "grades_in_subject = {s: g[subject] for s, g in gradebook.items()}\n",
    "highest_student, lowest_student = max(grades_in_subject, key=grades_in_subject.get), min(grades_in_subject, key=grades_in_subject.get)\n",
    "\n",
    "# Sort by average grade\n",
    "sorted_students = sorted(avg_grades.items(), key=lambda x: x[1], reverse=True)\n",
    "\n",
    "print(avg_grades, f\"Highest: {highest_student}, Lowest: {lowest_student}\", sorted_students)\n",
    "\n"
   ]
  },
  {
   "cell_type": "code",
   "execution_count": 18,
   "id": "91cf4bbe",
   "metadata": {},
   "outputs": [
    {
     "name": "stdout",
     "output_type": "stream",
     "text": [
      "Final total: $2381.40\n"
     ]
    }
   ],
   "source": [
    "products = {\"Laptop\": {\"price\": 1000, \"quantity\": 10}, \"Headphones\": {\"price\": 150, \"quantity\": 50}}\n",
    "cart = {}\n",
    "\n",
    "def add_to_cart(product, qty):\n",
    "    if products.get(product, {}).get('quantity', 0) >= qty:\n",
    "        cart[product] = cart.get(product, 0) + qty\n",
    "        products[product][\"quantity\"] -= qty\n",
    "\n",
    "def remove_from_cart(product, qty):\n",
    "    if cart.get(product, 0) >= qty:\n",
    "        cart[product] -= qty\n",
    "        products[product][\"quantity\"] += qty\n",
    "        if cart[product] == 0: del cart[product]\n",
    "\n",
    "def calculate_total():\n",
    "    return sum(products[prod][\"price\"] * qty for prod, qty in cart.items())\n",
    "\n",
    "def apply_discount(total, discount):\n",
    "    return total * (1 - discount / 100)\n",
    "\n",
    "def apply_tax(total, tax):\n",
    "    return total * (1 + tax / 100)\n",
    "\n",
    "# Example usage\n",
    "add_to_cart(\"Laptop\", 2)\n",
    "add_to_cart(\"Headphones\", 3)\n",
    "total = calculate_total()\n",
    "total = apply_discount(total, 10)  # 10% discount\n",
    "total = apply_tax(total, 8)  # 8% tax\n",
    "print(f\"Final total: ${total:.2f}\")\n"
   ]
  },
  {
   "cell_type": "code",
   "execution_count": null,
   "id": "41b84884",
   "metadata": {},
   "outputs": [],
   "source": []
  }
 ],
 "metadata": {
  "kernelspec": {
   "display_name": "Python 3 (ipykernel)",
   "language": "python",
   "name": "python3"
  },
  "language_info": {
   "codemirror_mode": {
    "name": "ipython",
    "version": 3
   },
   "file_extension": ".py",
   "mimetype": "text/x-python",
   "name": "python",
   "nbconvert_exporter": "python",
   "pygments_lexer": "ipython3",
   "version": "3.11.5"
  }
 },
 "nbformat": 4,
 "nbformat_minor": 5
}
